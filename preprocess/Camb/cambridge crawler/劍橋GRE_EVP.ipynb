{
 "cells": [
  {
   "cell_type": "code",
   "execution_count": 1,
   "metadata": {
    "collapsed": true
   },
   "outputs": [],
   "source": [
    "import subprocess\n",
    "from selenium import webdriver\n",
    "from bs4 import BeautifulSoup\n",
    "import datetime\n"
   ]
  },
  {
   "cell_type": "code",
   "execution_count": 3,
   "metadata": {},
   "outputs": [
    {
     "name": "stderr",
     "output_type": "stream",
     "text": [
      "[Parallel(n_jobs=15)]: Using backend LokyBackend with 15 concurrent workers.\n",
      "[Parallel(n_jobs=15)]: Done  11 tasks      | elapsed:    1.4s\n",
      "[Parallel(n_jobs=15)]: Done 132 tasks      | elapsed:    7.2s\n",
      "[Parallel(n_jobs=15)]: Done 335 tasks      | elapsed:   16.6s\n",
      "[Parallel(n_jobs=15)]: Done 618 tasks      | elapsed:   29.7s\n",
      "[Parallel(n_jobs=15)]: Done 983 tasks      | elapsed:   46.6s\n",
      "[Parallel(n_jobs=15)]: Done 1428 tasks      | elapsed:  1.1min\n",
      "[Parallel(n_jobs=15)]: Done 1955 tasks      | elapsed:  1.5min\n",
      "[Parallel(n_jobs=15)]: Done 2562 tasks      | elapsed:  2.0min\n",
      "[Parallel(n_jobs=15)]: Done 3251 tasks      | elapsed:  2.5min\n",
      "[Parallel(n_jobs=15)]: Done 4020 tasks      | elapsed:  3.1min\n",
      "[Parallel(n_jobs=15)]: Done 4871 tasks      | elapsed:  3.8min\n",
      "[Parallel(n_jobs=15)]: Done 5802 tasks      | elapsed:  4.5min\n",
      "[Parallel(n_jobs=15)]: Done 6815 tasks      | elapsed:  5.3min\n",
      "[Parallel(n_jobs=15)]: Done 7530 out of 7530 | elapsed:  5.8min finished\n"
     ]
    }
   ],
   "source": [
    "def gre_evp(word):\n",
    "    #print()\n",
    "    output = \"\\n\"\n",
    "    try:\n",
    "        status, msg = subprocess.getstatusoutput(\"curl https://dictionary.cambridge.org/dictionary/english-chinese-traditional/\"+word)\n",
    "        soup = BeautifulSoup(msg, 'html.parser')\n",
    "    except:\n",
    "        return ''\n",
    "        driver.get('https://dictionary.cambridge.org/dictionary/english-chinese-traditional/'+word)\n",
    "        soup = BeautifulSoup(driver.page_source, 'html.parser')\n",
    "    if not soup.find('span', class_=\"hw\") or soup.find('span', class_=\"hw\").text in existWord:\n",
    "        return ''\n",
    "    pos_divs = soup.find_all('div', class_=\"entry-body__el\")\n",
    "    prevClass_ = '***'\n",
    "    for pos_div in pos_divs:\n",
    "        for div in pos_div.find_all(['span', 'b']):\n",
    "            try:\n",
    "                class_ = div['class'][0]\n",
    "            except:\n",
    "                class_ = '_'\n",
    "            if class_ in 'headword pos guideword epp-xref gram tran eg trans phrase def'.split():\n",
    "                if prevClass_ in ['eg', 'def'] and class_ == 'trans':\n",
    "                    class_ = prevClass_ + '_t'\n",
    "                #print ('<%s>'%class_, div.text.replace('\\n', '').lstrip())\n",
    "                #file.write('<%s>'%class_ + \"\\t\" + div.text.replace('\\n', '').lstrip() + \"\\n\")\n",
    "                output += '<%s>'%class_ + \" \" + div.text.replace('\\n', '').lstrip() + \"\\n\"\n",
    "                if class_ == 'headword':\n",
    "                    existWord.add(div.text.replace('\\n', '').lstrip())\n",
    "                prevClass_ = class_\n",
    "    #print(output)\n",
    "    return output\n",
    "                    \n",
    "\n",
    "from joblib import Parallel, delayed\n",
    "\n",
    "# option = webdriver.ChromeOptions()\n",
    "# option.add_argument('headless')\n",
    "# driver = webdriver.Chrome(executable_path=r'/usr/local/bin/chrome_driver', chrome_options=option)\n",
    "#driver = webdriver.Chrome('/usr/local/bin/chromedriver') #, chrome_options=option)\n",
    "\n",
    "file = open(\"gre_evp_output.txt\", \"w\")\n",
    "# words = 'plant china cents cent'.split()\n",
    "words = eval(open(\"GRE_EVP.txt\", \"r\").read())\n",
    "\n",
    "existWord = set()\n",
    "# showTime()\n",
    "results = (Parallel(n_jobs=15, verbose=2)(delayed(gre_evp)(word) for word in words))\n",
    "# results = [gre_evp(word) for word in words ]\n",
    "# showTime()\n",
    "\n",
    "\n",
    "for r in results:\n",
    "    file.write(r)\n",
    "file.close()"
   ]
  },
  {
   "cell_type": "code",
   "execution_count": null,
   "metadata": {
    "collapsed": true
   },
   "outputs": [],
   "source": []
  }
 ],
 "metadata": {
  "kernelspec": {
   "display_name": "Python 3",
   "language": "python",
   "name": "python3"
  },
  "language_info": {
   "codemirror_mode": {
    "name": "ipython",
    "version": 3
   },
   "file_extension": ".py",
   "mimetype": "text/x-python",
   "name": "python",
   "nbconvert_exporter": "python",
   "pygments_lexer": "ipython3",
   "version": "3.6.3"
  }
 },
 "nbformat": 4,
 "nbformat_minor": 2
}
