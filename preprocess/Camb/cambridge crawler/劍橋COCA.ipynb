{
 "cells": [
  {
   "cell_type": "code",
   "execution_count": 1,
   "metadata": {
    "collapsed": true
   },
   "outputs": [],
   "source": [
    "# from selenium import webdriver\n",
    "import subprocess\n",
    "from bs4 import BeautifulSoup\n",
    "from collections import defaultdict\n",
    "import json\n",
    "from pprint import pprint\n",
    "\n",
    "def cleanSent(sent):\n",
    "    sent = sent.replace('\\n','').replace('  ','')\n",
    "    sent = sent.strip()\n",
    "    return sent\n",
    "\n",
    "def showTime():\n",
    "    import datetime\n",
    "    now = datetime.datetime.now()\n",
    "    print('Now: %d:%d:%d\\n' % (now.hour, now.minute, now.second))\n",
    "    \n",
    "CamDict = defaultdict(lambda: defaultdict(lambda:list()))\n",
    "# option = webdriver.ChromeOptions()\n",
    "# option.add_argument('headless')\n",
    "# driver = webdriver.Chrome(executable_path=r'/usr/local/bin/chrome_driver', chrome_options=option)\n",
    "\n",
    "V = \"A word that describes an action, condition or experience.\"\n",
    "N = \"A word that refers to a person, place, idea, event or thing.\"\n",
    "ADJ = \"A word that describes a noun or pronoun.\"\n",
    "targetPos = {'V', 'N', 'ADJ'}"
   ]
  },
  {
   "cell_type": "code",
   "execution_count": 8,
   "metadata": {
    "collapsed": true
   },
   "outputs": [],
   "source": [
    "def getEx(word):\n",
    "    def get_runon():\n",
    "        url = 'https://dictionary.cambridge.org/zht/搜索/english-chinese-traditional/direct/?q='+word\n",
    "        try:\n",
    "            status, msg = subprocess.getstatusoutput(\"curl -L \"+url)\n",
    "            soup = BeautifulSoup(msg, 'html.parser')\n",
    "        except:\n",
    "            return (word, 'fail')\n",
    "            try:\n",
    "                driver.get(url)\n",
    "                soup = BeautifulSoup(driver.page_source, 'html.parser')\n",
    "            except:\n",
    "                return word\n",
    "        ans = word\n",
    "        for child in soup.find_all(\"div\", class_=\"runon\"):\n",
    "            try:\n",
    "                pos = child.find('span', class_=\"pos\")['title'].replace(V, 'V').replace(N, 'N').replace(ADJ, 'ADJ')\n",
    "            except:\n",
    "                continue\n",
    "            if child.find(\"h3\", class_=\"runon-title\").text != word or pos not in targetPos:\n",
    "                continue\n",
    "            examps = child.find_all('div', class_=\"examp emphasized\")\n",
    "            for examp in examps:\n",
    "                chTran = ''\n",
    "                if language == 'ch':\n",
    "                    try:\n",
    "                        chTran = cleanSent(examp.find('span', class_=\"trans\").text)\n",
    "                    except:\n",
    "                        chTran = ''\n",
    "                try:\n",
    "                    enExamp = cleanSent(examp.find('span', class_=\"eg\").text)\n",
    "                except:\n",
    "                    continue\n",
    "                exampDict[word][pos].append((enExamp, chTran))\n",
    "                ans = json.loads(json.dumps(exampDict))\n",
    "        return ans\n",
    "    def enCam():\n",
    "        url = 'https://dictionary.cambridge.org/dictionary/english/'+word\n",
    "        try:\n",
    "            status, msg = subprocess.getstatusoutput(\"curl \"+url)\n",
    "            soup = BeautifulSoup(msg, 'html.parser')\n",
    "        except:\n",
    "            return (word, 'fail'), ''\n",
    "            try:\n",
    "                driver.get(url)\n",
    "                soup = BeautifulSoup(driver.page_source, 'html.parser')\n",
    "            except:\n",
    "                return (word, 'fail'), ''\n",
    "        if not soup.find('span', class_=\"hw\") or soup.find('span', class_=\"hw\").text != word:\n",
    "            return word, ''\n",
    "        return 'success!', soup\n",
    "    \n",
    "    def check_pos():\n",
    "        pos_divs = soup.find_all('div', class_=\"entry-body__el\")\n",
    "        for pos_div in pos_divs:\n",
    "            pos = pos_div.find('span', class_=\"pos\")\n",
    "            if not pos: continue\n",
    "            try:\n",
    "                pos = pos['title'].replace(V, 'V').replace(N, 'N').replace(ADJ, 'ADJ')\n",
    "            except:\n",
    "                continue\n",
    "            if exampDict[word][pos]: continue # ???\n",
    "            if pos not in targetPos: continue\n",
    "\n",
    "            for child in pos_div.find_all(\"div\", class_=\"runon\"):\n",
    "                if child.find(\"h3\", class_=\"runon-title\").text != word or child.find('span', class_=\"pos\")['title'].replace(V, 'V').replace(N, 'N').replace(ADJ, 'ADJ') not in targetPos:\n",
    "                    child.decompose()\n",
    "            examps = pos_div.find_all('div', class_=\"examp emphasized\")\n",
    "            for examp in examps:\n",
    "                chTran = ''\n",
    "                if language == 'ch':\n",
    "                    try:\n",
    "                        chTran = cleanSent(examp.find('span', class_=\"trans\").text)\n",
    "                    except:\n",
    "                        continue\n",
    "                try:\n",
    "                    enExamp = cleanSent(examp.find('span', class_=\"eg\").text)\n",
    "                except:\n",
    "                    continue\n",
    "                exampDict[word][pos].append((enExamp, chTran))\n",
    "        \n",
    "    language = 'ch'\n",
    "    exampDict = defaultdict(lambda: defaultdict(lambda:list()))\n",
    "#     url = 'https://dictionary.cambridge.org/zht/詞典/英語-漢語-繁體/'+word\n",
    "    url = 'https://dictionary.cambridge.org/zht/搜索/english-chinese-traditional/direct/?q='+word\n",
    "    try:\n",
    "        status, msg = subprocess.getstatusoutput(\"curl -L \"+url)\n",
    "        soup = BeautifulSoup(msg, 'html.parser')\n",
    "    except:\n",
    "        return (word, 'fail')\n",
    "        try:\n",
    "            driver.get(url)\n",
    "            soup = BeautifulSoup(driver.page_source, 'html.parser')\n",
    "        except:\n",
    "            language = 'en'\n",
    "            en_out, soup = enCam()\n",
    "            if en_out != 'success!': return en_out\n",
    "            \n",
    "    # 跳頁\n",
    "    if not soup.find('span', class_=\"hw\") or soup.find('span', class_=\"hw\").text != word:\n",
    "        if language == 'en': return get_runon()\n",
    "        language = 'en'\n",
    "        en_out, soup = enCam()\n",
    "        if en_out != 'success!': return get_runon()\n",
    "    \n",
    "    # 確認詞性\n",
    "    check_pos()\n",
    "    \n",
    "    if 'N' in exampDict[word].keys() and 'V' in exampDict[word].keys() and 'ADJ' in exampDict[word].keys():\n",
    "        return json.loads(json.dumps(exampDict))\n",
    "    elif language == 'ch':\n",
    "        language = 'en'\n",
    "        en_out, soup = enCam()\n",
    "        if en_out != 'success!': return en_out\n",
    "        # 確認詞性\n",
    "        check_pos()\n",
    "    \n",
    "    return json.loads(json.dumps(exampDict))\n"
   ]
  },
  {
   "cell_type": "code",
   "execution_count": 3,
   "metadata": {
    "collapsed": true
   },
   "outputs": [],
   "source": [
    "key_set = {'underperform', 'underperformance'}"
   ]
  },
  {
   "cell_type": "code",
   "execution_count": 5,
   "metadata": {},
   "outputs": [
    {
     "name": "stdout",
     "output_type": "stream",
     "text": [
      "Now: 14:47:24\n",
      "\n",
      "'aap'\n",
      "Now: 14:47:26\n",
      "\n"
     ]
    }
   ],
   "source": [
    "# from joblib import Parallel, delayed\n",
    "\n",
    "showTime()\n",
    "pprint(getEx('aap'))\n",
    "showTime()"
   ]
  },
  {
   "cell_type": "code",
   "execution_count": 10,
   "metadata": {},
   "outputs": [
    {
     "name": "stderr",
     "output_type": "stream",
     "text": [
      "[Parallel(n_jobs=20)]: Done   1 tasks      | elapsed:    1.9s\n",
      "[Parallel(n_jobs=20)]: Done 122 tasks      | elapsed:   13.1s\n",
      "[Parallel(n_jobs=20)]: Done 325 tasks      | elapsed:   28.3s\n",
      "[Parallel(n_jobs=20)]: Done 608 tasks      | elapsed:   52.3s\n",
      "[Parallel(n_jobs=20)]: Done 973 tasks      | elapsed:  1.5min\n",
      "[Parallel(n_jobs=20)]: Done 1418 tasks      | elapsed:  2.3min\n",
      "[Parallel(n_jobs=20)]: Done 1945 tasks      | elapsed:  3.3min\n",
      "[Parallel(n_jobs=20)]: Done 2552 tasks      | elapsed:  4.4min\n",
      "[Parallel(n_jobs=20)]: Done 3241 tasks      | elapsed:  5.8min\n",
      "[Parallel(n_jobs=20)]: Done 4010 tasks      | elapsed:  7.4min\n",
      "[Parallel(n_jobs=20)]: Done 4861 tasks      | elapsed:  9.1min\n",
      "[Parallel(n_jobs=20)]: Done 5792 tasks      | elapsed: 11.2min\n",
      "[Parallel(n_jobs=20)]: Done 6805 tasks      | elapsed: 13.1min\n",
      "[Parallel(n_jobs=20)]: Done 7898 tasks      | elapsed: 15.3min\n",
      "[Parallel(n_jobs=20)]: Done 9073 tasks      | elapsed: 17.5min\n",
      "[Parallel(n_jobs=20)]: Done 10328 tasks      | elapsed: 19.9min\n",
      "[Parallel(n_jobs=20)]: Done 11665 tasks      | elapsed: 22.8min\n",
      "[Parallel(n_jobs=20)]: Done 13082 tasks      | elapsed: 25.6min\n",
      "[Parallel(n_jobs=20)]: Done 14581 tasks      | elapsed: 28.6min\n",
      "[Parallel(n_jobs=20)]: Done 16160 tasks      | elapsed: 31.1min\n",
      "[Parallel(n_jobs=20)]: Done 17821 tasks      | elapsed: 33.4min\n",
      "[Parallel(n_jobs=20)]: Done 19562 tasks      | elapsed: 36.1min\n",
      "[Parallel(n_jobs=20)]: Done 21385 tasks      | elapsed: 38.7min\n",
      "[Parallel(n_jobs=20)]: Done 23288 tasks      | elapsed: 41.7min\n",
      "[Parallel(n_jobs=20)]: Done 25273 tasks      | elapsed: 45.5min\n",
      "[Parallel(n_jobs=20)]: Done 27338 tasks      | elapsed: 49.2min\n",
      "[Parallel(n_jobs=20)]: Done 29322 out of 29322 | elapsed: 53.5min finished\n"
     ]
    }
   ],
   "source": [
    "from joblib import Parallel, delayed\n",
    "\n",
    "words = eval(open(\"words_need_delete.txt\", \"r\").read())\n",
    "\n",
    "existWord = set()\n",
    "# showTime()\n",
    "results = (Parallel(n_jobs=20, verbose=2)(delayed(getEx)(word) for word in words))"
   ]
  },
  {
   "cell_type": "code",
   "execution_count": 11,
   "metadata": {
    "collapsed": true
   },
   "outputs": [],
   "source": [
    "for r in results:\n",
    "    if type(r) == dict: CamDict.update(r)\n",
    "    \n",
    "    \n",
    "file = open('camDict.txt', 'w')\n",
    "data = json.loads(json.dumps(CamDict))\n",
    "file.write(str(data))\n",
    "file.close()"
   ]
  },
  {
   "cell_type": "code",
   "execution_count": 7,
   "metadata": {},
   "outputs": [
    {
     "data": {
      "text/plain": [
       "23352"
      ]
     },
     "execution_count": 7,
     "metadata": {},
     "output_type": "execute_result"
    }
   ],
   "source": [
    "len(CamDict.keys())"
   ]
  },
  {
   "cell_type": "code",
   "execution_count": 15,
   "metadata": {},
   "outputs": [
    {
     "data": {
      "text/plain": [
       "defaultdict(<function __main__.<lambda>.<locals>.<lambda>>, {})"
      ]
     },
     "execution_count": 15,
     "metadata": {},
     "output_type": "execute_result"
    }
   ],
   "source": [
    "CamDict['store']"
   ]
  },
  {
   "cell_type": "code",
   "execution_count": 16,
   "metadata": {
    "collapsed": true
   },
   "outputs": [],
   "source": [
    "file = open('webdriver.txt', 'w')\n",
    "file.write(str([ w for w in words if w not in CamDict.keys() ]))\n",
    "file.close()\n"
   ]
  },
  {
   "cell_type": "code",
   "execution_count": 1,
   "metadata": {
    "collapsed": true
   },
   "outputs": [],
   "source": [
    "file = open('camDict.txt', 'r')\n",
    "CamDict = eval(file.read())\n",
    "file.close()"
   ]
  },
  {
   "cell_type": "code",
   "execution_count": 2,
   "metadata": {
    "collapsed": true
   },
   "outputs": [],
   "source": [
    "file = open('add.txt', 'r')\n",
    "add = eval(file.read())\n",
    "file.close()"
   ]
  },
  {
   "cell_type": "code",
   "execution_count": 6,
   "metadata": {
    "collapsed": true
   },
   "outputs": [],
   "source": [
    "CamDict.update(add)"
   ]
  },
  {
   "cell_type": "code",
   "execution_count": 9,
   "metadata": {
    "collapsed": true
   },
   "outputs": [],
   "source": [
    "file = open('camDict.txt', 'w')\n",
    "#data = json.loads(json.dumps(CamDict))\n",
    "file.write(str(CamDict))\n",
    "file.close()"
   ]
  }
 ],
 "metadata": {
  "kernelspec": {
   "display_name": "Python 3",
   "language": "python",
   "name": "python3"
  },
  "language_info": {
   "codemirror_mode": {
    "name": "ipython",
    "version": 3
   },
   "file_extension": ".py",
   "mimetype": "text/x-python",
   "name": "python",
   "nbconvert_exporter": "python",
   "pygments_lexer": "ipython3",
   "version": "3.6.3"
  }
 },
 "nbformat": 4,
 "nbformat_minor": 2
}
